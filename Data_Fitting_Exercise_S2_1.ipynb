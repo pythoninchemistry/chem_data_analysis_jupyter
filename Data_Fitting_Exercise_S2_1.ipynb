{
 "cells": [
  {
   "cell_type": "markdown",
   "metadata": {},
   "source": [
    "# Data Fitting Exercises\n",
    "\n",
    "# 1. Linear Regression"
   ]
  },
  {
   "cell_type": "markdown",
   "metadata": {},
   "source": [
    "A common part of data analysis is **fitting** a mathematical model to some experimental data. This might be to determine how well a particular model describes your experimental data, or to extract a numerical parameter; for example, fitting rate laws to reactant concentrations over time to obtain rate constants. Another example is the semester 1 exercise, where you fitted CO$_2$ vapour pressures to the Clausius-Clapeyron equation to obtain phase transition enthalpies.\n",
    "\n",
    "A third example where fitting to simple exerimental data can give chemical information about a particular reaction involves the **Van't Hoff equation**. This relates the change in the equilibrium constant, $K$, for a reaction, to a change in temperature, providing the enthalpy change for the reaction, $\\Delta H$, is constant:\n",
    "\n",
    "\\begin{equation}\n",
    "\\frac{\\mathrm{d}\\,\\ln{K}}{\\mathrm{d}\\,T} = \\frac{\\Delta H}{RT^2}.\\tag{1}\n",
    "\\end{equation}\n",
    "\n",
    "The derivation of this equation comes from combining two standard equations for the Gibbs free energy change, $\\Delta G$, for a reaction:\n",
    "\n",
    "\\begin{equation}\n",
    "\\Delta G = \\Delta H - T \\Delta S\\tag{2}\n",
    "\\end{equation}\n",
    "\n",
    "\\begin{equation}\n",
    "\\Delta G = -RT \\ln{K}\\tag{3}\n",
    "\\end{equation}\n",
    "\n",
    "Combining these two equations, we get\n",
    "\n",
    "\\begin{equation}\n",
    "\\ln{K} = -\\frac{\\Delta H}{RT} + \\frac{\\Delta S}{R}.\\tag{4}\n",
    "\\end{equation}\n",
    "\n",
    "This is the **linear** form of the Van't Hoff equation. Differentiating with respect to $\\frac{1}{T}$ (keeping $\\Delta H$ and $\\Delta S$ constant) gives equation 1.\n",
    "\n",
    "Because the linear form of the Van't Hoff equation gives the equation for a straight line (hence &ldquo;linear&rdquo;) a plot of $\\ln{K}$ against $\\frac{1}{T}$ should give a straight line, as long as the enthalpy and entropy of reaction are approximately constant over the temperature range of interest. Furthermore, a straight line fitted to these data will have a slope of $-\\frac{\\Delta H}{R}$ and an intercept of $\\frac{\\Delta S}{R}$. By performing a linear fit, it is therefore possible to extract values for $\\Delta H$ and $\\Delta S$.\n",
    "\n",
    "In the semeseter 1 lab, you learned how to use the `linregress()` function (from `scipy.stats`) to perform a linear regression (fit a straight line to a set of data). This exercises will work through model fitting in a bit more detail, divided into three parts. \n",
    "1. In the first part, you will have the opportunity to revise and practice working with data, and using `scipy.stats.linregress` to fit a straight line, to obtain the experimental reaction enthalpy and entropy for an equilibrium. \n",
    "2. The second part will go into more detail about what we mean when we talk about &ldquo;fitting&rqduo; a straight line, and will show you a different, more general, approach to solving the same problem, that involves writing your own functions. \n",
    "3. In the third part, you will apply what you have learned to fit a **non-linear** model to some experimental data, to analyse a flash-photolysis experiment.\n",
    "\n",
    "<div class=\"alert alert-success\">\n",
    "Review the basics of using <span style='font-family:monospace'>matplotlib</span> to plot graphs, and using <span style='font-family:monospace'>scipy.stats.linregress</span> for linear regression, using your notebooks from last semester.\n",
    "</div>"
   ]
  },
  {
   "cell_type": "markdown",
   "metadata": {},
   "source": [
    "## Exercise\n",
    "\n",
    "The file `data/equilibrium_constant.dat` contains a set of equilibrium constants measured at different temperatures for the reaction\n",
    "\n",
    "\\begin{equation}\n",
    "2\\mathrm{NO}_2 \\rightleftharpoons \\mathrm{N}_2\\mathrm{O}_4.\n",
    "\\end{equation}\n",
    "\n",
    "By performing a linear regression with these data, calculate the enthalpy and entropy changes for this reaction."
   ]
  },
  {
   "cell_type": "markdown",
   "metadata": {},
   "source": [
    "### Instructions\n",
    "\n",
    "The first thing you will need to do is set up your notebook for working with data, by importing `numpy` and the plotting functions from `matplotlib`.\n",
    ">```python\n",
    "import numpy as np\n",
    "import matplotlib.pyplot as plt\n",
    "%matplotlib inline\n",
    "```"
   ]
  },
  {
   "cell_type": "code",
   "execution_count": null,
   "metadata": {},
   "outputs": [],
   "source": []
  },
  {
   "cell_type": "markdown",
   "metadata": {},
   "source": [
    "### Process\n",
    "\n",
    "The data from this experiment are stored in a text file in `data/equilbirium_constant.dat`, which looks like\n",
    "\n",
    "```\n",
    "# equilibrium constant data for 2 NO2 => N2O4  \n",
    "# columns are: temperature (degrees Celsius), K\n",
    "  \n",
    "9   34.3\n",
    "20  12\n",
    "25  8.79\n",
    "33  4.4\n",
    "40  2.8\n",
    "52  1.4\n",
    "60  0.751\n",
    "70  0.4\n",
    "```\n",
    "\n",
    "To be able to work with the temperature and equilibrium constant data, you want to load them into `numpy` arrays. You can read the data from the file using the `np.loadtxt()` function, e.g.\n",
    "\n",
    ">```python\n",
    "    data = np.loadtxt('data/equilibrium_constant.dat')\n",
    "```\n",
    "\n",
    "<div class=\"alert alert-success\">\n",
    "Load the dataset from the file into a numpy array called <span style='font-family:monospace'>data</span>.  \n",
    "Check that this is a 2D array containing both the temperatures and equilibrium constants.\n",
    "</div>"
   ]
  },
  {
   "cell_type": "code",
   "execution_count": null,
   "metadata": {},
   "outputs": [],
   "source": []
  },
  {
   "cell_type": "markdown",
   "metadata": {},
   "source": [
    "<div class=\"alert alert-success\">\n",
    "To make it easier to work with the temperature and equilibrium constant data separately, copy the columns from your <span style='font-family:monospace'>data</span> array into a pair of 1D arrays, named <span style='font-family:monospace'>temperature</span> and <span style='font-family:monospace'>k_eq</span>.  \n",
    "Remember that you can refer to a particular column or row in a 2D array using **array slicing**.  \n",
    "Convert your temperature array from Celsius into Kelvin.\n",
    "</div>"
   ]
  },
  {
   "cell_type": "code",
   "execution_count": null,
   "metadata": {},
   "outputs": [],
   "source": []
  },
  {
   "cell_type": "code",
   "execution_count": null,
   "metadata": {},
   "outputs": [],
   "source": []
  },
  {
   "cell_type": "markdown",
   "metadata": {},
   "source": [
    "<div class=\"alert alert-success\">\n",
    "Plot $\\ln{K}$ against $1/T$, and check that this gives a straight line relationship.  \n",
    "Label your axes.\n",
    "</div>"
   ]
  },
  {
   "cell_type": "code",
   "execution_count": null,
   "metadata": {},
   "outputs": [],
   "source": []
  },
  {
   "cell_type": "markdown",
   "metadata": {},
   "source": [
    "<div class=\"alert alert-success\">\n",
    "Using <span style='font-family:monospace'>scipy.stats.linregress</span> fit a straight line to this dataset, and print the slope and intercept from your fit.  \n",
    "</div>"
   ]
  },
  {
   "cell_type": "code",
   "execution_count": null,
   "metadata": {},
   "outputs": [],
   "source": []
  },
  {
   "cell_type": "markdown",
   "metadata": {},
   "source": [
    "<div class=\"alert alert-success\">\n",
    "Generate another $\\ln{K}$ versus $1/T$ plot, showing the experimental data as points, and your &ldquo;line of best fit&rdquo; as a line.\n",
    "</div>\n",
    "\n",
    "A simple way to generate points that lie along a straight line is to define a `line` function:\n",
    ">```python\n",
    "def line( m, c, x ):\n",
    "    y = m * x + c\n",
    "    return y\n",
    "```\n",
    "\n",
    "This function takes three arguments; $m$, $c$, and $x$; and returns the corresponding $y$ values. By passing in `slope` as $m$, `intercept` as $c$, and `1/temperature` as $x$, you can calculate the $y$ coordinates to plot on your figure."
   ]
  },
  {
   "cell_type": "code",
   "execution_count": null,
   "metadata": {},
   "outputs": [],
   "source": [
    "# Define your function here"
   ]
  },
  {
   "cell_type": "code",
   "execution_count": null,
   "metadata": {},
   "outputs": [],
   "source": [
    "# Plot your figure.\n",
    "# You will need to use `plt.plot()` twice to plot the original data, and your fitting line."
   ]
  },
  {
   "cell_type": "markdown",
   "metadata": {},
   "source": [
    "<div class=\"alert alert-success\">\n",
    "Use your fitted values for the slope and intercept to calculate the enthalpy and entropy of this reaction.  \n",
    "Remember that you can import the gas constant, $R$, using  <br/><br/>\n",
    " <span style='font-family:monospace'>from scipy.constants import R</span>\n",
    " \n",
    "Add more code cells as necessary to organise your calculation.\n",
    "</div>"
   ]
  },
  {
   "cell_type": "code",
   "execution_count": null,
   "metadata": {},
   "outputs": [],
   "source": []
  },
  {
   "cell_type": "markdown",
   "metadata": {},
   "source": [
    "<div class=\"alert alert-success\">\n",
    "Create a markdown cell below, and use it to comment on the signs of $\\Delta H$ and $\\Delta S$ for this reaction.\n",
    "</div>"
   ]
  }
 ],
 "metadata": {
  "kernelspec": {
   "display_name": "Python 3",
   "language": "python",
   "name": "python3"
  },
  "language_info": {
   "codemirror_mode": {
    "name": "ipython",
    "version": 3
   },
   "file_extension": ".py",
   "mimetype": "text/x-python",
   "name": "python",
   "nbconvert_exporter": "python",
   "pygments_lexer": "ipython3",
   "version": "3.6.1"
  }
 },
 "nbformat": 4,
 "nbformat_minor": 2
}
