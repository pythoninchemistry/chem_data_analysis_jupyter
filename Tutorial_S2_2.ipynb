{
 "cells": [
  {
   "cell_type": "markdown",
   "metadata": {},
   "source": [
    "# Data Analysis using Jupyter Notebooks Part 2\n",
    "\n",
    "Benjamin J. Morgan\n",
    "\n",
    "# Tutorial 2\n",
    "\n",
    "## Mathematical functions, importing modules, and variables\n",
    "\n",
    "Simple mathematical operations can be typed directly into code cells and run to perform calculations, much how you would use a calculator; e.g.\n",
    "\n",
    ">```python\n",
    "1+2+3+4\n",
    "```  \n",
    "\n",
    "or \n",
    "\n",
    ">```python\n",
    "5**3 # five cubed\n",
    "```\n",
    "\n",
    "Other mathematical functions use Python **functions**, such as `log` and `sqrt`. These two functions are both contained in the `math` module, which needs to be imported before you can use them. The `math` module also contains standard mathematical constants, such as $\\mathrm{e}$ and $\\pi$."
   ]
  },
  {
   "cell_type": "markdown",
   "metadata": {},
   "source": [
    "<div class=\"alert alert-success\">\n",
    "Import the `math` module and use the appropriate functions and constants to perform the following calculations:  \n",
    "\n",
    "    • $\\ln(2)$  \n",
    "    • $\\sqrt{121}$  \n",
    "    • $\\sin( \\pi/2 )$  \n",
    "    • $\\mathrm{e}^2$\n",
    "</div>"
   ]
  },
  {
   "cell_type": "code",
   "execution_count": null,
   "metadata": {},
   "outputs": [],
   "source": []
  },
  {
   "cell_type": "markdown",
   "metadata": {},
   "source": [
    "## Variables\n",
    "\n",
    "Variables let you store things to use later. Once you have stored a value in a variable, you can use the variable in place of the original value. Variable assignment (storing a value in a variable) uses a single `=` symbol, e.g. `variable_name = value`\n",
    "\n",
    ">```python\n",
    "a = 6\n",
    "b = 2\n",
    "a * b\n",
    "```"
   ]
  },
  {
   "cell_type": "code",
   "execution_count": null,
   "metadata": {},
   "outputs": [],
   "source": []
  },
  {
   "cell_type": "markdown",
   "metadata": {},
   "source": [
    "Variable names must start with a letter or an underscore, so `spider`, and `_book` are valid variable names, but `2_times_2` is not. In Python, variable names are **case-sensitive**, so `apple`, `Apple`, and `APPLE` are distinct variables.\n",
    "\n",
    "> ```python\n",
    "apple = 1\n",
    "Apple = 2\n",
    "APPLE = 3\n",
    "print( apple, Apple, APPLE )\n",
    "```"
   ]
  },
  {
   "cell_type": "code",
   "execution_count": 10,
   "metadata": {},
   "outputs": [
    {
     "name": "stdout",
     "output_type": "stream",
     "text": [
      "1 2 3\n"
     ]
    }
   ],
   "source": []
  },
  {
   "cell_type": "markdown",
   "metadata": {},
   "source": [
    "## Data Types\n",
    "\n",
    "In Python, different kinds of data are represented by different **data types**. Unlike some other programming languages, you do not need to specify what data type a variable will be used to store before using it. Instead the computer will figure this out when you run your code. You can also use a single variable to store different data types throughout a piece of code, although this can make it harder for people to understand.\n",
    ">```python\n",
    "var = 1 # integer\n",
    "print( var )\n",
    "var = 2 # integer\n",
    "print( var )\n",
    "var = 3.5 # floating point number, called a \"float\"\n",
    "print( var )\n",
    "var = 'a variable'\n",
    "print( var )\n",
    "```"
   ]
  },
  {
   "cell_type": "code",
   "execution_count": null,
   "metadata": {},
   "outputs": [],
   "source": []
  },
  {
   "cell_type": "markdown",
   "metadata": {},
   "source": [
    "Another data type is the **list**. In Python, lists represent an ordered sequence of values (which could be other lists):\n",
    "\n",
    ">```python\n",
    "a = 1\n",
    "b = 2\n",
    "c = 3\n",
    "my_list = [ a, b, c ]\n",
    "print( my_list )\n",
    "```\n"
   ]
  },
  {
   "cell_type": "code",
   "execution_count": null,
   "metadata": {},
   "outputs": [],
   "source": []
  },
  {
   "cell_type": "markdown",
   "metadata": {},
   "source": [
    "You can access particular elements in a list using list indexing, with square `[ ]` brackets\n",
    ">```python\n",
    "print( my_list[2] )\n",
    "```"
   ]
  },
  {
   "cell_type": "code",
   "execution_count": 17,
   "metadata": {},
   "outputs": [],
   "source": []
  },
  {
   "cell_type": "markdown",
   "metadata": {},
   "source": [
    "Remember that Python starts counting from zero, so `my_list[2]` returns the **third** element in `my_list` (you can think of this as two positions along from the front)\n",
    "\n",
    "To access a range of values in a list, you can use a **slice**, with the `:` symbol:\n",
    ">```python\n",
    "longer_list = [2,4,6,8,10,12,14,16]\n",
    "longer_list[2:4]\n",
    "```"
   ]
  },
  {
   "cell_type": "code",
   "execution_count": null,
   "metadata": {},
   "outputs": [],
   "source": []
  },
  {
   "cell_type": "markdown",
   "metadata": {},
   "source": [
    "Slices work by giving you all elements, counting from the index on the left of the `:` **up to but not including** the index on the right of the `:`. This is why the previous example gives us the third element (2 from the beginning), the fourth element (3 from the beginning), and does not give us the fifth element (4 from the beginning).\n",
    "\n",
    "List indexing, and slicing can also understand negative numbers, which indicate counting from the end of the list, instead of from the beginning:\n",
    "\n",
    ">```python\n",
    "longer_list[-2]\n",
    "```"
   ]
  },
  {
   "cell_type": "code",
   "execution_count": null,
   "metadata": {},
   "outputs": [],
   "source": []
  },
  {
   "cell_type": "markdown",
   "metadata": {},
   "source": [
    "You can also select every $n$ elements in a sequence, by adding a third number to a slice\n",
    ">```python\n",
    "longer_list[2::2]\n",
    "```"
   ]
  },
  {
   "cell_type": "code",
   "execution_count": null,
   "metadata": {},
   "outputs": [],
   "source": []
  },
  {
   "cell_type": "markdown",
   "metadata": {},
   "source": [
    "In this example we have left out the second number, which normally indicates where to stop. If you do not specify where to stop, the slice will continue to the end of the list. The previous example, then, means &ldquo;every second element of `longer_list`, starting with the third element (2 from the beginning), and continuing until the end of the list.&rdquo;"
   ]
  },
  {
   "cell_type": "markdown",
   "metadata": {},
   "source": [
    "# numpy arrays\n",
    "\n",
    "**Arrays** are particularly useful for storing and working with numerical data. Arrays are part of the `numpy` module, so you need to `import numpy` before you can use them. Remember that this often looks like `import numpy as np`, which allows us to use the shorthand `np` instead of `numpy` when referring to it in our code:\n",
    ">```python\n",
    "import numpy as np\n",
    "a = np.array([1,2,3,4,5,6,7,8,9,10])\n",
    "```"
   ]
  },
  {
   "cell_type": "code",
   "execution_count": null,
   "metadata": {},
   "outputs": [],
   "source": []
  },
  {
   "cell_type": "markdown",
   "metadata": {},
   "source": [
    "<div class=\"alert alert-success\">\n",
    "What are some ways to generate sequences of numbers, without having to type them all out one after the other?  \n",
    "\n",
    "Look at the `numpy.arange()` and `numpy.linspace()` functions in your semester 1 notebooks. What is the difference between these two lines?\n",
    "</div>"
   ]
  },
  {
   "cell_type": "markdown",
   "metadata": {},
   "source": [
    "`numpy` arrays can be operated on like vectors: you can write code that performs the same operation on every element in the array:\n",
    ">```python\n",
    "print(a**2)\n",
    "```"
   ]
  },
  {
   "cell_type": "code",
   "execution_count": null,
   "metadata": {},
   "outputs": [],
   "source": []
  },
  {
   "cell_type": "markdown",
   "metadata": {},
   "source": [
    "`numpy` also contains a large number of mathematical functions, including functions such as `np.sqrt()` and `np.sin()`. These examples behave the same as `math.sqrt()` and `math.sin()` if you use them to operate on single numbers, but they can also operate on lists of numbers or entire arrays at once:\n",
    ">```python\n",
    "import math\n",
    "import numpy as np\n",
    "print( math.sqrt(4) ) # square root of a single number\n",
    "print( np.sqrt(4) ) # square root of a single number\n",
    "print( np.sqrt( [4,9,16] ) ) # square root of every element of a list of numbers\n",
    "a = np.array( [4, 9, 16] ) # create a numpy array\n",
    "print( np.sqrt(a) ) # square root of every element of a numpy array\n",
    "```"
   ]
  },
  {
   "cell_type": "code",
   "execution_count": null,
   "metadata": {},
   "outputs": [],
   "source": []
  },
  {
   "cell_type": "markdown",
   "metadata": {},
   "source": [
    "`numpy` includes common statistical functions for finding means, standard deviations, maximum and minimum values, or the **index** of a maximum or minimum value.\n",
    "\n",
    ">```python\n",
    "a = np.random.random(10) # create a numpy array with 10 random numbers between 0 and 1\n",
    "print( 'a:', a ) # print a, rounded to 2 decimal places.\n",
    "print( 'mean:', np.mean(a) )\n",
    "print( 'std dev:', np.std(a) )\n",
    "print( 'minimum value:', np.min(a) )\n",
    "print( 'maximum value:', np.max(a) )\n",
    "print( 'index of the minimum value:', np.argmin(a) )\n",
    "print( 'index of the maximum value:', np.argmax(a) )\n",
    "```"
   ]
  },
  {
   "cell_type": "code",
   "execution_count": null,
   "metadata": {},
   "outputs": [],
   "source": []
  }
 ],
 "metadata": {
  "kernelspec": {
   "display_name": "Python 3",
   "language": "python",
   "name": "python3"
  },
  "language_info": {
   "codemirror_mode": {
    "name": "ipython",
    "version": 3
   },
   "file_extension": ".py",
   "mimetype": "text/x-python",
   "name": "python",
   "nbconvert_exporter": "python",
   "pygments_lexer": "ipython3",
   "version": "3.6.1"
  }
 },
 "nbformat": 4,
 "nbformat_minor": 2
}
